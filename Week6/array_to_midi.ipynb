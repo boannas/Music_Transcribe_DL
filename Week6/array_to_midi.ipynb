{
 "cells": [
  {
   "cell_type": "code",
   "execution_count": 5,
   "metadata": {},
   "outputs": [],
   "source": [
    "######################################\n",
    "# Convert array to midi file code\n",
    "\n",
    "import pretty_midi\n",
    "save_path = \"midi/output.mid\"\n",
    "midi = pretty_midi.PrettyMIDI()\n",
    "instrument = pretty_midi.Instrument(program=0)  # Piano\n",
    "\n",
    "# Example notes\n",
    "notes = [(60, 0.0, 0.5), (64, 0.0, 0.5), (67, 0.0, 0.5), \n",
    "         (62, 0.5, 1.0), (65, 0.5, 1.0), (69, 0.5, 1.0)]\n",
    "\n",
    "for pitch, start, end in notes:\n",
    "    note = pretty_midi.Note(velocity=100, pitch=pitch, start=start, end=end)\n",
    "    instrument.notes.append(note)\n",
    "\n",
    "midi.instruments.append(instrument)\n",
    "midi.write(save_path)\n"
   ]
  },
  {
   "cell_type": "code",
   "execution_count": null,
   "metadata": {},
   "outputs": [],
   "source": []
  }
 ],
 "metadata": {
  "kernelspec": {
   "display_name": "env",
   "language": "python",
   "name": "python3"
  },
  "language_info": {
   "codemirror_mode": {
    "name": "ipython",
    "version": 3
   },
   "file_extension": ".py",
   "mimetype": "text/x-python",
   "name": "python",
   "nbconvert_exporter": "python",
   "pygments_lexer": "ipython3",
   "version": "3.10.11"
  }
 },
 "nbformat": 4,
 "nbformat_minor": 2
}
