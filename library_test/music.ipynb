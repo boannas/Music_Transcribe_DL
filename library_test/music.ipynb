{
 "cells": [
  {
   "cell_type": "code",
   "execution_count": 1,
   "metadata": {},
   "outputs": [],
   "source": [
    "from music21 import note, stream, environment\n",
    "\n",
    "environment.set('musescoreDirectPNGPath', r\"C:\\Program Files\\MuseScore 4\\bin\\MuseScore4.exe\")           # Muse score .exe path"
   ]
  },
  {
   "cell_type": "code",
   "execution_count": 2,
   "metadata": {},
   "outputs": [],
   "source": [
    "x = 1\n",
    "\n",
    "C = note.Note(\"C4\", quarterLength=x)\n",
    "ccc = note.Note(\"C4\", quarterLength=3*x)\n",
    "D = note.Note(\"D4\", quarterLength=x)\n",
    "dd = note.Note(\"D4\", quarterLength=2*x)\n",
    "E = note.Note(\"E4\", quarterLength=x)\n",
    "ee = note.Note(\"E4\", quarterLength=2*x)\n",
    "G = note.Note(\"G4\", quarterLength=x)\n",
    "gg = note.Note(\"G4\", quarterLength=2*x)"
   ]
  },
  {
   "cell_type": "code",
   "execution_count": 3,
   "metadata": {},
   "outputs": [
    {
     "data": {
      "image/png": "[encoded data removed]",
      "text/plain": [
       "<IPython.core.display.Image object>"
      ]
     },
     "metadata": {
      "image/png": {
       "height": 49,
       "width": 697
      }
     },
     "output_type": "display_data"
    },
    {
     "data": {
      "text/plain": [
       "'Mary.mid'"
      ]
     },
     "execution_count": 3,
     "metadata": {},
     "output_type": "execute_result"
    }
   ],
   "source": [
    "from music21 import note, stream\n",
    "import copy\n",
    "\n",
    "x = 0.5\n",
    "\n",
    "# Define notes\n",
    "C = note.Note(\"C4\", quarterLength=x)\n",
    "ccc = note.Note(\"C4\", quarterLength=3*x)\n",
    "D = note.Note(\"D4\", quarterLength=x)\n",
    "dd = note.Note(\"D4\", quarterLength=2*x)\n",
    "E = note.Note(\"E4\", quarterLength=x)\n",
    "ee = note.Note(\"E4\", quarterLength=2*x)\n",
    "G = note.Note(\"G4\", quarterLength=x)\n",
    "gg = note.Note(\"G4\", quarterLength=2*x)\n",
    "\n",
    "# Melody sequence using references (reuse-safe via deepcopy)\n",
    "notes = [E, D, C, D, E, E, ee, D, D, dd, E, G, gg, E, D, C, D, E, E, E, E, D, D, E, D, ccc]\n",
    "\n",
    "# Create stream and append deep copies\n",
    "s = stream.Stream()\n",
    "s.append([copy.deepcopy(n) for n in notes])\n",
    "\n",
    "# Show or save\n",
    "s.show()       # or s.show() for notation\n",
    "s.write('midi', fp='Mary.mid')\n"
   ]
  },
  {
   "cell_type": "code",
   "execution_count": 4,
   "metadata": {},
   "outputs": [
    {
     "data": {
      "text/plain": [
       "'Mary.mid'"
      ]
     },
     "execution_count": 4,
     "metadata": {},
     "output_type": "execute_result"
    }
   ],
   "source": [
    "s.write('midi', fp='Mary.mid')"
   ]
  },
  {
   "cell_type": "code",
   "execution_count": 1,
   "metadata": {},
   "outputs": [
    {
     "name": "stdout",
     "output_type": "stream",
     "text": [
      "pygame 2.6.1 (SDL 2.28.4, Python 3.10.11)\n",
      "Hello from the pygame community. https://www.pygame.org/contribute.html\n",
      "pitchwheel channel=0 pitch=0 time=0\n",
      "note_on channel=0 note=60 velocity=90 time=0\n",
      "note_off channel=0 note=60 velocity=0 time=0.5\n",
      "note_on channel=0 note=64 velocity=90 time=0\n",
      "note_off channel=0 note=64 velocity=0 time=0.25\n",
      "note_on channel=0 note=67 velocity=90 time=0\n",
      "note_off channel=0 note=67 velocity=0 time=0.25\n",
      "note_on channel=0 note=72 velocity=90 time=0\n",
      "note_off channel=0 note=72 velocity=0 time=1.0\n",
      "note_on channel=0 note=67 velocity=90 time=0\n",
      "note_off channel=0 note=67 velocity=0 time=0.5\n",
      "note_on channel=0 note=64 velocity=90 time=0\n",
      "note_off channel=0 note=64 velocity=0 time=0.25\n",
      "note_on channel=0 note=60 velocity=90 time=0\n",
      "note_off channel=0 note=60 velocity=0 time=0.25\n",
      "note_on channel=0 note=72 velocity=90 time=0\n",
      "note_off channel=0 note=72 velocity=0 time=1.0\n"
     ]
    }
   ],
   "source": [
    "import mido\n",
    "import pygame\n",
    "\n",
    "# Initialize pygame mixer\n",
    "pygame.mixer.init()\n",
    "\n",
    "# Load the MIDI file\n",
    "midi_file = 'my_melody.mid'\n",
    "pygame.mixer.music.load(midi_file)\n",
    "\n",
    "# Play MIDI\n",
    "pygame.mixer.music.play()\n",
    "\n",
    "# Read and print MIDI messages (optional)\n",
    "mid = mido.MidiFile(midi_file)\n",
    "for msg in mid.play():\n",
    "    print(msg)\n",
    "\n",
    "# Keep running until finished\n",
    "while pygame.mixer.music.get_busy():\n",
    "    pass\n"
   ]
  },
  {
   "cell_type": "code",
   "execution_count": 3,
   "metadata": {},
   "outputs": [
    {
     "data": {
      "text/plain": [
       "MidiFile(type=1, ticks_per_beat=10080, tracks=[\n",
       "  MidiTrack([\n",
       "    MetaMessage('set_tempo', tempo=500000, time=0),\n",
       "    MetaMessage('time_signature', numerator=4, denominator=4, clocks_per_click=24, notated_32nd_notes_per_beat=8, time=0),\n",
       "    MetaMessage('end_of_track', time=10080)]),\n",
       "  MidiTrack([\n",
       "    MetaMessage('track_name', name='', time=0),\n",
       "    Message('pitchwheel', channel=0, pitch=0, time=0),\n",
       "    Message('note_on', channel=0, note=60, velocity=90, time=0),\n",
       "    Message('note_off', channel=0, note=60, velocity=0, time=10080),\n",
       "    Message('note_on', channel=0, note=64, velocity=90, time=0),\n",
       "    Message('note_off', channel=0, note=64, velocity=0, time=5040),\n",
       "    Message('note_on', channel=0, note=67, velocity=90, time=0),\n",
       "    Message('note_off', channel=0, note=67, velocity=0, time=5040),\n",
       "    Message('note_on', channel=0, note=72, velocity=90, time=0),\n",
       "    Message('note_off', channel=0, note=72, velocity=0, time=20160),\n",
       "    Message('note_on', channel=0, note=67, velocity=90, time=0),\n",
       "    Message('note_off', channel=0, note=67, velocity=0, time=10080),\n",
       "    Message('note_on', channel=0, note=64, velocity=90, time=0),\n",
       "    Message('note_off', channel=0, note=64, velocity=0, time=5040),\n",
       "    Message('note_on', channel=0, note=60, velocity=90, time=0),\n",
       "    Message('note_off', channel=0, note=60, velocity=0, time=5040),\n",
       "    Message('note_on', channel=0, note=72, velocity=90, time=0),\n",
       "    Message('note_off', channel=0, note=72, velocity=0, time=20160),\n",
       "    MetaMessage('end_of_track', time=10080)])\n",
       "])"
      ]
     },
     "execution_count": 3,
     "metadata": {},
     "output_type": "execute_result"
    }
   ],
   "source": [
    "mid"
   ]
  },
  {
   "cell_type": "code",
   "execution_count": null,
   "metadata": {},
   "outputs": [],
   "source": []
  }
 ],
 "metadata": {
  "kernelspec": {
   "display_name": "env",
   "language": "python",
   "name": "python3"
  },
  "language_info": {
   "codemirror_mode": {
    "name": "ipython",
    "version": 3
   },
   "file_extension": ".py",
   "mimetype": "text/x-python",
   "name": "python",
   "nbconvert_exporter": "python",
   "pygments_lexer": "ipython3",
   "version": "3.10.11"
  }
 },
 "nbformat": 4,
 "nbformat_minor": 2
}
