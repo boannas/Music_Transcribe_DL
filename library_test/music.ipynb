{
 "cells": [
  {
   "cell_type": "code",
   "execution_count": 1,
   "metadata": {},
   "outputs": [],
   "source": [
    "from music21 import note, stream, environment\n",
    "\n",
    "environment.set('musescoreDirectPNGPath', r\"C:\\Program Files\\MuseScore 4\\bin\\MuseScore4.exe\")           # Muse score .exe path"
   ]
  },
  {
   "cell_type": "code",
   "execution_count": 2,
   "metadata": {},
   "outputs": [],
   "source": [
    "n1 = note.Note(\"C4\", quarterLength = 1)\n",
    "n2 = note.Note(\"E4\", quarterLength = .5)\n",
    "n3 = note.Note(\"G4\", quarterLength = .5)\n",
    "n4 = note.Note(\"C5\", quarterLength = 2)\n",
    "\n",
    "n5 = note.Note(\"G4\", quarterLength = 1)\n",
    "n6 = note.Note(\"E4\", quarterLength = .5)\n",
    "n7 = note.Note(\"C4\", quarterLength = .5)\n",
    "n8 = note.Note(\"C5\", quarterLength = 2)\n",
    "# n1.show()\n",
    "# n2.show()"
   ]
  },
  {
   "cell_type": "code",
   "execution_count": 3,
   "metadata": {},
   "outputs": [
    {
     "data": {
      "image/png": "[encoded data removed]",
      "text/plain": [
       "<IPython.core.display.Image object>"
      ]
     },
     "metadata": {
      "image/png": {
       "height": 49,
       "width": 697
      }
     },
     "output_type": "display_data"
    }
   ],
   "source": [
    "s = stream.Stream()\n",
    "s.append([n1,n2,n3,n4,n5,n6,n7,n8])\n",
    "s.show()"
   ]
  },
  {
   "cell_type": "code",
   "execution_count": 4,
   "metadata": {},
   "outputs": [
    {
     "data": {
      "text/plain": [
       "'my_melody.midi'"
      ]
     },
     "execution_count": 4,
     "metadata": {},
     "output_type": "execute_result"
    }
   ],
   "source": [
    "s.write('midi', fp='my_melody.midi')"
   ]
  },
  {
   "cell_type": "code",
   "execution_count": 1,
   "metadata": {},
   "outputs": [
    {
     "name": "stdout",
     "output_type": "stream",
     "text": [
      "pygame 2.6.1 (SDL 2.28.4, Python 3.11.2)\n",
      "Hello from the pygame community. https://www.pygame.org/contribute.html\n",
      "pitchwheel channel=0 pitch=0 time=0\n",
      "note_on channel=0 note=60 velocity=90 time=0\n",
      "note_off channel=0 note=60 velocity=0 time=0.5\n",
      "note_on channel=0 note=64 velocity=90 time=0\n",
      "note_off channel=0 note=64 velocity=0 time=0.25\n",
      "note_on channel=0 note=67 velocity=90 time=0\n",
      "note_off channel=0 note=67 velocity=0 time=0.25\n",
      "note_on channel=0 note=72 velocity=90 time=0\n",
      "note_off channel=0 note=72 velocity=0 time=1.0\n",
      "note_on channel=0 note=67 velocity=90 time=0\n",
      "note_off channel=0 note=67 velocity=0 time=0.5\n",
      "note_on channel=0 note=64 velocity=90 time=0\n",
      "note_off channel=0 note=64 velocity=0 time=0.25\n",
      "note_on channel=0 note=60 velocity=90 time=0\n",
      "note_off channel=0 note=60 velocity=0 time=0.25\n",
      "note_on channel=0 note=72 velocity=90 time=0\n",
      "note_off channel=0 note=72 velocity=0 time=1.0\n"
     ]
    }
   ],
   "source": [
    "import mido\n",
    "import pygame\n",
    "\n",
    "# Initialize pygame mixer\n",
    "pygame.mixer.init()\n",
    "\n",
    "# Load the MIDI file\n",
    "midi_file = \"my_melody.midi\"\n",
    "pygame.mixer.music.load(midi_file)\n",
    "\n",
    "# Play MIDI\n",
    "pygame.mixer.music.play()\n",
    "\n",
    "# Read and print MIDI messages (optional)\n",
    "mid = mido.MidiFile(midi_file)\n",
    "for msg in mid.play():\n",
    "    print(msg)\n",
    "\n",
    "# Keep running until finished\n",
    "while pygame.mixer.music.get_busy():\n",
    "    pass\n"
   ]
  },
  {
   "cell_type": "code",
   "execution_count": null,
   "metadata": {},
   "outputs": [],
   "source": []
  }
 ],
 "metadata": {
  "kernelspec": {
   "display_name": "Python 3",
   "language": "python",
   "name": "python3"
  },
  "language_info": {
   "codemirror_mode": {
    "name": "ipython",
    "version": 3
   },
   "file_extension": ".py",
   "mimetype": "text/x-python",
   "name": "python",
   "nbconvert_exporter": "python",
   "pygments_lexer": "ipython3",
   "version": "3.11.2"
  }
 },
 "nbformat": 4,
 "nbformat_minor": 2
}
