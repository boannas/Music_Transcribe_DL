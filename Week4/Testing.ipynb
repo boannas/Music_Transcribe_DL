{
 "cells": [
  {
   "cell_type": "code",
   "execution_count": 2,
   "metadata": {},
   "outputs": [
    {
     "name": "stdout",
     "output_type": "stream",
     "text": [
      "Collecting pysndfx\n",
      "  Downloading pysndfx-0.3.6.tar.gz (5.9 kB)\n",
      "  Preparing metadata (setup.py): started\n",
      "  Preparing metadata (setup.py): finished with status 'done'\n",
      "Requirement already satisfied: numpy in c:\\users\\napat\\appdata\\local\\packages\\pythonsoftwarefoundation.python.3.10_qbz5n2kfra8p0\\localcache\\local-packages\\python310\\site-packages (from pysndfx) (1.26.4)\n",
      "Building wheels for collected packages: pysndfx\n",
      "  Building wheel for pysndfx (setup.py): started\n",
      "  Building wheel for pysndfx (setup.py): finished with status 'done'\n",
      "  Created wheel for pysndfx: filename=pysndfx-0.3.6-py3-none-any.whl size=6558 sha256=c43f48adadfbc112f7cbf3c2cd6b80c09161b8c1a18329f81b09fa894ec2193a\n",
      "  Stored in directory: c:\\users\\napat\\appdata\\local\\pip\\cache\\wheels\\e8\\73\\04\\275af1c6a789bbc12f388bce2d5353e77579e3aaadd36c61fe\n",
      "Successfully built pysndfx\n",
      "Installing collected packages: pysndfx\n",
      "Successfully installed pysndfx-0.3.6\n"
     ]
    }
   ],
   "source": [
    "!pip install pysndfx"
   ]
  },
  {
   "cell_type": "code",
   "execution_count": 10,
   "metadata": {},
   "outputs": [],
   "source": [
    "import numpy as np\n",
    "import scipy as sp\n",
    "import matplotlib.pyplot as plt\n",
    "import pandas as pd\n",
    "import librosa as lr\n",
    "from librosa.display import specshow\n",
    "from pysndfx import AudioEffectsChain\n",
    "\n",
    "%matplotlib inline"
   ]
  },
  {
   "cell_type": "code",
   "execution_count": null,
   "metadata": {},
   "outputs": [],
   "source": []
  },
  {
   "cell_type": "code",
   "execution_count": null,
   "metadata": {},
   "outputs": [],
   "source": [
    "def pitch_hps(audio_samples,\n",
    "              sample_rate=sr,\n",
    "              window_length=4096,\n",
    "              hop_length=1024,\n",
    "              window=np.hanning,\n",
    "              partials=5,\n",
    "              plot=False):\n",
    "    \"\"\"Estimate the pitch contour in a monophonic audio signal.\"\"\"\n",
    "\n",
    "    f0s = []\n",
    "    frequencies = np.fft.rfftfreq(window_length, 1 / sample_rate)\n",
    "    window = window(window_length)\n",
    "    pad = lambda a: np.pad(a, \n",
    "                           (0, window_length - len(a)),\n",
    "                           mode='constant',\n",
    "                           constant_values=0)\n",
    "    \n",
    "    # Low cut filter audio at 50 Hz.\n",
    "    audio_samples = AudioEffectsChain().highpass(50)(audio_samples)\n",
    "\n",
    "    # Go through audio frame-by-frame.\n",
    "    for i in range(0, len(audio_samples), hop_length):\n",
    "\n",
    "        # Fourier transform audio frame.\n",
    "\n",
    "        frame = window * pad(audio_samples[i:window_length + i])\n",
    "        spectrum = np.fft.rfft(frame)\n",
    "\n",
    "        # Downsample spectrum.\n",
    "        spectra = []\n",
    "        for n in range(1, partials + 1):\n",
    "            s = sp.signal.resample(spectrum, len(spectrum) // n)\n",
    "            spectra.append(s)\n",
    "\n",
    "        # Truncate to most downsampled spectrum.\n",
    "        l = min(len(s) for s in spectra)\n",
    "        a = np.zeros((len(spectra), l), dtype=spectrum.dtype)\n",
    "        for i, s in enumerate(spectra):\n",
    "            a[i] += s[:l]\n",
    "\n",
    "        # Multiply spectra per frequency bin.\n",
    "        hps = np.product(np.abs(a), axis=0)\n",
    "\n",
    "        # TODO Blur spectrum to remove noise and high-frequency content .\n",
    "        #kernel = sp.signal.gaussian(9, 1)\n",
    "        #hps = sp.signal.fftconvolve(hps, kernel, mode='same')\n",
    "\n",
    "        # TODO Detect peaks with a continuous wavelet transform for polyphonic signals.\n",
    "        #peaks = sp.signal.find_peaks_cwt(np.abs(hps), np.arange(1, 3))\n",
    "\n",
    "        # Pick largest peak, it's likely f0.\n",
    "        peak = np.argmax(hps)\n",
    "        f0 = frequencies[peak]\n",
    "        f0s.append(f0)\n",
    "\n",
    "        if plot:\n",
    "\n",
    "            # Plot partial magnitudes individually.\n",
    "            for s, ax in zip(spectra,\n",
    "                             plt.subplots(len(spectra), sharex=True)[1]):\n",
    "                ax.plot(np.abs(s))\n",
    "            plt.suptitle('Partials')\n",
    "            plt.show()\n",
    "\n",
    "            # Plot combined spectra.\n",
    "            plt.imshow(np.log(np.abs(a)), aspect='auto')\n",
    "            plt.title('Spectra')\n",
    "            plt.colorbar()\n",
    "            plt.show()\n",
    "\n",
    "            # Plot HPS peak.\n",
    "            plt.plot(np.arange(len(hps)), np.abs(hps))\n",
    "            plt.scatter(peak, np.abs(hps[peak]), color='r')\n",
    "            plt.title('HPS peak')\n",
    "            plt.show()\n",
    "            return\n",
    "\n",
    "    f0s = np.array(f0s)\n",
    "\n",
    "    # Median filter out noise.\n",
    "    f0s = sp.signal.medfilt(f0s, [21])\n",
    "\n",
    "    return f0s"
   ]
  },
  {
   "cell_type": "code",
   "execution_count": 16,
   "metadata": {},
   "outputs": [
    {
     "ename": "FileNotFoundError",
     "evalue": "[WinError 2] The system cannot find the file specified",
     "output_type": "error",
     "traceback": [
      "\u001b[1;31m---------------------------------------------------------------------------\u001b[0m",
      "\u001b[1;31mFileNotFoundError\u001b[0m                         Traceback (most recent call last)",
      "Cell \u001b[1;32mIn[16], line 3\u001b[0m\n\u001b[0;32m      1\u001b[0m y, sr \u001b[38;5;241m=\u001b[39m lr\u001b[38;5;241m.\u001b[39mload(\u001b[38;5;124m'\u001b[39m\u001b[38;5;124mPiano3.mp3\u001b[39m\u001b[38;5;124m'\u001b[39m, sr\u001b[38;5;241m=\u001b[39m\u001b[38;5;241m22050\u001b[39m)\n\u001b[1;32m----> 3\u001b[0m \u001b[43mpitch_hps\u001b[49m\u001b[43m(\u001b[49m\u001b[43my\u001b[49m\u001b[43m,\u001b[49m\u001b[43m \u001b[49m\u001b[43mplot\u001b[49m\u001b[38;5;241;43m=\u001b[39;49m\u001b[38;5;28;43;01mTrue\u001b[39;49;00m\u001b[43m)\u001b[49m\n",
      "Cell \u001b[1;32mIn[14], line 19\u001b[0m, in \u001b[0;36mpitch_hps\u001b[1;34m(audio_samples, sample_rate, window_length, hop_length, window, partials, plot)\u001b[0m\n\u001b[0;32m     13\u001b[0m pad \u001b[38;5;241m=\u001b[39m \u001b[38;5;28;01mlambda\u001b[39;00m a: np\u001b[38;5;241m.\u001b[39mpad(a, \n\u001b[0;32m     14\u001b[0m                        (\u001b[38;5;241m0\u001b[39m, window_length \u001b[38;5;241m-\u001b[39m \u001b[38;5;28mlen\u001b[39m(a)),\n\u001b[0;32m     15\u001b[0m                        mode\u001b[38;5;241m=\u001b[39m\u001b[38;5;124m'\u001b[39m\u001b[38;5;124mconstant\u001b[39m\u001b[38;5;124m'\u001b[39m,\n\u001b[0;32m     16\u001b[0m                        constant_values\u001b[38;5;241m=\u001b[39m\u001b[38;5;241m0\u001b[39m)\n\u001b[0;32m     18\u001b[0m \u001b[38;5;66;03m# Low cut filter audio at 50 Hz.\u001b[39;00m\n\u001b[1;32m---> 19\u001b[0m audio_samples \u001b[38;5;241m=\u001b[39m \u001b[43mAudioEffectsChain\u001b[49m\u001b[43m(\u001b[49m\u001b[43m)\u001b[49m\u001b[38;5;241;43m.\u001b[39;49m\u001b[43mhighpass\u001b[49m\u001b[43m(\u001b[49m\u001b[38;5;241;43m50\u001b[39;49m\u001b[43m)\u001b[49m\u001b[43m(\u001b[49m\u001b[43maudio_samples\u001b[49m\u001b[43m)\u001b[49m\n\u001b[0;32m     21\u001b[0m \u001b[38;5;66;03m# Go through audio frame-by-frame.\u001b[39;00m\n\u001b[0;32m     22\u001b[0m \u001b[38;5;28;01mfor\u001b[39;00m i \u001b[38;5;129;01min\u001b[39;00m \u001b[38;5;28mrange\u001b[39m(\u001b[38;5;241m0\u001b[39m, \u001b[38;5;28mlen\u001b[39m(audio_samples), hop_length):\n\u001b[0;32m     23\u001b[0m \n\u001b[0;32m     24\u001b[0m     \u001b[38;5;66;03m# Fourier transform audio frame.\u001b[39;00m\n",
      "File \u001b[1;32mc:\\Users\\napat\\AppData\\Local\\Programs\\Python\\Python311\\Lib\\site-packages\\pysndfx\\dsp.py:413\u001b[0m, in \u001b[0;36mAudioEffectsChain.__call__\u001b[1;34m(self, src, dst, sample_in, sample_out, encoding_out, channels_out, allow_clipping)\u001b[0m\n\u001b[0;32m    411\u001b[0m logger\u001b[38;5;241m.\u001b[39mdebug(\u001b[38;5;124m\"\u001b[39m\u001b[38;5;124mRunning command : \u001b[39m\u001b[38;5;132;01m%s\u001b[39;00m\u001b[38;5;124m\"\u001b[39m \u001b[38;5;241m%\u001b[39m cmd)\n\u001b[0;32m    412\u001b[0m \u001b[38;5;28;01mif\u001b[39;00m \u001b[38;5;28misinstance\u001b[39m(stdin, np\u001b[38;5;241m.\u001b[39mndarray):\n\u001b[1;32m--> 413\u001b[0m     stdout, stderr \u001b[38;5;241m=\u001b[39m \u001b[43mPopen\u001b[49m\u001b[43m(\u001b[49m\u001b[43mcmd\u001b[49m\u001b[43m,\u001b[49m\u001b[43m \u001b[49m\u001b[43mstdin\u001b[49m\u001b[38;5;241;43m=\u001b[39;49m\u001b[43mPIPE\u001b[49m\u001b[43m,\u001b[49m\u001b[43m \u001b[49m\u001b[43mstdout\u001b[49m\u001b[38;5;241;43m=\u001b[39;49m\u001b[43mPIPE\u001b[49m\u001b[43m,\u001b[49m\u001b[43m \u001b[49m\u001b[43mstderr\u001b[49m\u001b[38;5;241;43m=\u001b[39;49m\u001b[43mPIPE\u001b[49m\u001b[43m)\u001b[49m\u001b[38;5;241m.\u001b[39mcommunicate(stdin\u001b[38;5;241m.\u001b[39mtobytes(order\u001b[38;5;241m=\u001b[39m\u001b[38;5;124m\"\u001b[39m\u001b[38;5;124mF\u001b[39m\u001b[38;5;124m\"\u001b[39m))\n\u001b[0;32m    414\u001b[0m \u001b[38;5;28;01melse\u001b[39;00m:\n\u001b[0;32m    415\u001b[0m     stdout, stderr \u001b[38;5;241m=\u001b[39m Popen(cmd, stdout\u001b[38;5;241m=\u001b[39mPIPE, stderr\u001b[38;5;241m=\u001b[39mPIPE)\u001b[38;5;241m.\u001b[39mcommunicate()\n",
      "File \u001b[1;32mc:\\Users\\napat\\AppData\\Local\\Programs\\Python\\Python311\\Lib\\subprocess.py:1024\u001b[0m, in \u001b[0;36mPopen.__init__\u001b[1;34m(self, args, bufsize, executable, stdin, stdout, stderr, preexec_fn, close_fds, shell, cwd, env, universal_newlines, startupinfo, creationflags, restore_signals, start_new_session, pass_fds, user, group, extra_groups, encoding, errors, text, umask, pipesize, process_group)\u001b[0m\n\u001b[0;32m   1020\u001b[0m         \u001b[38;5;28;01mif\u001b[39;00m \u001b[38;5;28mself\u001b[39m\u001b[38;5;241m.\u001b[39mtext_mode:\n\u001b[0;32m   1021\u001b[0m             \u001b[38;5;28mself\u001b[39m\u001b[38;5;241m.\u001b[39mstderr \u001b[38;5;241m=\u001b[39m io\u001b[38;5;241m.\u001b[39mTextIOWrapper(\u001b[38;5;28mself\u001b[39m\u001b[38;5;241m.\u001b[39mstderr,\n\u001b[0;32m   1022\u001b[0m                     encoding\u001b[38;5;241m=\u001b[39mencoding, errors\u001b[38;5;241m=\u001b[39merrors)\n\u001b[1;32m-> 1024\u001b[0m     \u001b[38;5;28;43mself\u001b[39;49m\u001b[38;5;241;43m.\u001b[39;49m\u001b[43m_execute_child\u001b[49m\u001b[43m(\u001b[49m\u001b[43margs\u001b[49m\u001b[43m,\u001b[49m\u001b[43m \u001b[49m\u001b[43mexecutable\u001b[49m\u001b[43m,\u001b[49m\u001b[43m \u001b[49m\u001b[43mpreexec_fn\u001b[49m\u001b[43m,\u001b[49m\u001b[43m \u001b[49m\u001b[43mclose_fds\u001b[49m\u001b[43m,\u001b[49m\n\u001b[0;32m   1025\u001b[0m \u001b[43m                        \u001b[49m\u001b[43mpass_fds\u001b[49m\u001b[43m,\u001b[49m\u001b[43m \u001b[49m\u001b[43mcwd\u001b[49m\u001b[43m,\u001b[49m\u001b[43m \u001b[49m\u001b[43menv\u001b[49m\u001b[43m,\u001b[49m\n\u001b[0;32m   1026\u001b[0m \u001b[43m                        \u001b[49m\u001b[43mstartupinfo\u001b[49m\u001b[43m,\u001b[49m\u001b[43m \u001b[49m\u001b[43mcreationflags\u001b[49m\u001b[43m,\u001b[49m\u001b[43m \u001b[49m\u001b[43mshell\u001b[49m\u001b[43m,\u001b[49m\n\u001b[0;32m   1027\u001b[0m \u001b[43m                        \u001b[49m\u001b[43mp2cread\u001b[49m\u001b[43m,\u001b[49m\u001b[43m \u001b[49m\u001b[43mp2cwrite\u001b[49m\u001b[43m,\u001b[49m\n\u001b[0;32m   1028\u001b[0m \u001b[43m                        \u001b[49m\u001b[43mc2pread\u001b[49m\u001b[43m,\u001b[49m\u001b[43m \u001b[49m\u001b[43mc2pwrite\u001b[49m\u001b[43m,\u001b[49m\n\u001b[0;32m   1029\u001b[0m \u001b[43m                        \u001b[49m\u001b[43merrread\u001b[49m\u001b[43m,\u001b[49m\u001b[43m \u001b[49m\u001b[43merrwrite\u001b[49m\u001b[43m,\u001b[49m\n\u001b[0;32m   1030\u001b[0m \u001b[43m                        \u001b[49m\u001b[43mrestore_signals\u001b[49m\u001b[43m,\u001b[49m\n\u001b[0;32m   1031\u001b[0m \u001b[43m                        \u001b[49m\u001b[43mgid\u001b[49m\u001b[43m,\u001b[49m\u001b[43m \u001b[49m\u001b[43mgids\u001b[49m\u001b[43m,\u001b[49m\u001b[43m \u001b[49m\u001b[43muid\u001b[49m\u001b[43m,\u001b[49m\u001b[43m \u001b[49m\u001b[43mumask\u001b[49m\u001b[43m,\u001b[49m\n\u001b[0;32m   1032\u001b[0m \u001b[43m                        \u001b[49m\u001b[43mstart_new_session\u001b[49m\u001b[43m,\u001b[49m\u001b[43m \u001b[49m\u001b[43mprocess_group\u001b[49m\u001b[43m)\u001b[49m\n\u001b[0;32m   1033\u001b[0m \u001b[38;5;28;01mexcept\u001b[39;00m:\n\u001b[0;32m   1034\u001b[0m     \u001b[38;5;66;03m# Cleanup if the child failed starting.\u001b[39;00m\n\u001b[0;32m   1035\u001b[0m     \u001b[38;5;28;01mfor\u001b[39;00m f \u001b[38;5;129;01min\u001b[39;00m \u001b[38;5;28mfilter\u001b[39m(\u001b[38;5;28;01mNone\u001b[39;00m, (\u001b[38;5;28mself\u001b[39m\u001b[38;5;241m.\u001b[39mstdin, \u001b[38;5;28mself\u001b[39m\u001b[38;5;241m.\u001b[39mstdout, \u001b[38;5;28mself\u001b[39m\u001b[38;5;241m.\u001b[39mstderr)):\n",
      "File \u001b[1;32mc:\\Users\\napat\\AppData\\Local\\Programs\\Python\\Python311\\Lib\\subprocess.py:1493\u001b[0m, in \u001b[0;36mPopen._execute_child\u001b[1;34m(self, args, executable, preexec_fn, close_fds, pass_fds, cwd, env, startupinfo, creationflags, shell, p2cread, p2cwrite, c2pread, c2pwrite, errread, errwrite, unused_restore_signals, unused_gid, unused_gids, unused_uid, unused_umask, unused_start_new_session, unused_process_group)\u001b[0m\n\u001b[0;32m   1491\u001b[0m \u001b[38;5;66;03m# Start the process\u001b[39;00m\n\u001b[0;32m   1492\u001b[0m \u001b[38;5;28;01mtry\u001b[39;00m:\n\u001b[1;32m-> 1493\u001b[0m     hp, ht, pid, tid \u001b[38;5;241m=\u001b[39m _winapi\u001b[38;5;241m.\u001b[39mCreateProcess(executable, args,\n\u001b[0;32m   1494\u001b[0m                              \u001b[38;5;66;03m# no special security\u001b[39;00m\n\u001b[0;32m   1495\u001b[0m                              \u001b[38;5;28;01mNone\u001b[39;00m, \u001b[38;5;28;01mNone\u001b[39;00m,\n\u001b[0;32m   1496\u001b[0m                              \u001b[38;5;28mint\u001b[39m(\u001b[38;5;129;01mnot\u001b[39;00m close_fds),\n\u001b[0;32m   1497\u001b[0m                              creationflags,\n\u001b[0;32m   1498\u001b[0m                              env,\n\u001b[0;32m   1499\u001b[0m                              cwd,\n\u001b[0;32m   1500\u001b[0m                              startupinfo)\n\u001b[0;32m   1501\u001b[0m \u001b[38;5;28;01mfinally\u001b[39;00m:\n\u001b[0;32m   1502\u001b[0m     \u001b[38;5;66;03m# Child is launched. Close the parent's copy of those pipe\u001b[39;00m\n\u001b[0;32m   1503\u001b[0m     \u001b[38;5;66;03m# handles that only the child should have open.  You need\u001b[39;00m\n\u001b[1;32m   (...)\u001b[0m\n\u001b[0;32m   1506\u001b[0m     \u001b[38;5;66;03m# pipe will not close when the child process exits and the\u001b[39;00m\n\u001b[0;32m   1507\u001b[0m     \u001b[38;5;66;03m# ReadFile will hang.\u001b[39;00m\n\u001b[0;32m   1508\u001b[0m     \u001b[38;5;28mself\u001b[39m\u001b[38;5;241m.\u001b[39m_close_pipe_fds(p2cread, p2cwrite,\n\u001b[0;32m   1509\u001b[0m                          c2pread, c2pwrite,\n\u001b[0;32m   1510\u001b[0m                          errread, errwrite)\n",
      "\u001b[1;31mFileNotFoundError\u001b[0m: [WinError 2] The system cannot find the file specified"
     ]
    }
   ],
   "source": [
    "y, sr = lr.load('Piano3.mp3', sr=22050)\n",
    "\n",
    "pitch_hps(y, plot=True)\n"
   ]
  },
  {
   "cell_type": "code",
   "execution_count": 18,
   "metadata": {},
   "outputs": [
    {
     "name": "stdout",
     "output_type": "stream",
     "text": [
      "SoX is NOT installed or not in PATH.\n"
     ]
    }
   ],
   "source": [
    "from pysndfx import AudioEffectsChain\n",
    "import subprocess\n",
    "\n",
    "try:\n",
    "    sox_version = subprocess.run([\"sox\", \"--version\"], capture_output=True, text=True)\n",
    "    print(\"SoX Installed:\", sox_version.stdout)\n",
    "except FileNotFoundError:\n",
    "    print(\"SoX is NOT installed or not in PATH.\")\n"
   ]
  },
  {
   "cell_type": "code",
   "execution_count": null,
   "metadata": {},
   "outputs": [],
   "source": []
  }
 ],
 "metadata": {
  "kernelspec": {
   "display_name": "Python 3",
   "language": "python",
   "name": "python3"
  },
  "language_info": {
   "codemirror_mode": {
    "name": "ipython",
    "version": 3
   },
   "file_extension": ".py",
   "mimetype": "text/x-python",
   "name": "python",
   "nbconvert_exporter": "python",
   "pygments_lexer": "ipython3",
   "version": "3.11.2"
  }
 },
 "nbformat": 4,
 "nbformat_minor": 2
}
