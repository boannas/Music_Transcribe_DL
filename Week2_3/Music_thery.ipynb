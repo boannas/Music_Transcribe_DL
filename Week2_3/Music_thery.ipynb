{
 "cells": [
  {
   "cell_type": "markdown",
   "metadata": {},
   "source": [
    "# **Basic Music Theory** \n"
   ]
  },
  {
   "cell_type": "markdown",
   "metadata": {},
   "source": [
    "## Fundamentals of music"
   ]
  },
  {
   "cell_type": "markdown",
   "metadata": {},
   "source": [
    "### Pitch  "
   ]
  },
  {
   "cell_type": "markdown",
   "metadata": {},
   "source": [
    "Pitch is how lowness or highness of a tone, that the frequency of sound waves produce by a vibration of the objects. It mean if object vibrate faster produce higher pitch sounds, on the other hand object that vibrate slower produce lower pitch sounds. In mathematics we can measured in Hertz(Hz) and each specific Hz can be mapping into musical notation (e.g. A, B, C, etc.) in difference octaves.\n",
    "\n",
    "<img src=\"image_musical\\pitch_freq.png\" width=\"600\" style=\"display: block; margin: auto;\">\n",
    "\n",
    "Musical note can define into frequency to determine what note was played or sung by looking value from this table, on vertical line is for the number of octave and horizontal line for musical note.\n",
    "\n",
    "<img src=\"image_musical\\note_freq.png\" width=\"600\" style=\"display: block; margin: auto;\">\n",
    "\n",
    "As we can see on the table same note but difference octave like A4=440 Hz and A5=880 Hz it, so, all octave or note has same distance of frequecy. For piano 88 keys first key start from A0 and end with C8, we can use this equation to determine what frequency of each note on the piano.\n",
    "\n",
    "<img src=\"image_musical\\formula.png\" width=\"400\" style=\"display: block; margin: auto; margin-bottom: 20px\">\n",
    "  \n",
    "\n",
    "\n",
    "\n",
    "<img src=\"image_musical\\piano_hz.png\" width=\"400\" style=\"display: block; margin: auto;\">"
   ]
  },
  {
   "cell_type": "markdown",
   "metadata": {},
   "source": [
    "### Scales  "
   ]
  },
  {
   "cell_type": "markdown",
   "metadata": {},
   "source": [
    "A sequence of musical notes arranged in ascecding or decending order, there are many types of scale (Major, Minor, Pentatonic, Chromatic)  \n",
    "\n",
    "\n",
    "<img src=\"image_musical\\scale.png\" width=\"400\" style=\"display: block; margin: auto;\">\n",
    "\n",
    "By looking at the frequency ratios, we can see the multipliers for each note in the scale.  \n",
    "Example for major and minor musical intervals and associated frequency ratios is given in this table below.\n",
    "\n",
    "<img src=\"image_musical\\scale_ratio.png\" width=\"400\" style=\"display: block; margin: auto;\">\n"
   ]
  },
  {
   "cell_type": "markdown",
   "metadata": {},
   "source": [
    "### Rhythm  "
   ]
  },
  {
   "cell_type": "markdown",
   "metadata": {},
   "source": [
    "The pattern of sounds and silence in music, defining the time structure of a piece.  \n",
    "\n",
    "Components:  \n",
    "- Beat: The underlying pulse of the music\n",
    "- Tempo: Speed of the Beat (BPM - beat per minute)\n",
    "- Meter: Grouping of beats into measures (time signature)\n",
    "\n",
    "\n",
    "<img src=\"image_musical\\rhythm.png\" width=\"400\" style=\"display: block; margin: auto;\">\n"
   ]
  },
  {
   "cell_type": "markdown",
   "metadata": {},
   "source": [
    "### Melody  "
   ]
  },
  {
   "cell_type": "markdown",
   "metadata": {},
   "source": [
    "A sequence of musical notes that form a recognizable tune. The basic element of melody are pitch, duration, rhythm, and tempo. The tones of a melody are usually drawn from pitch systems such as scales or modes.\n",
    "\n",
    "<img src=\"image_musical\\melody.png\" width=\"400\" style=\"display: block; margin: auto;\">\n"
   ]
  },
  {
   "cell_type": "markdown",
   "metadata": {},
   "source": [
    "### Chord  \n"
   ]
  },
  {
   "cell_type": "markdown",
   "metadata": {},
   "source": [
    "A group of three or more notes played together.  \n",
    "- Major chord: Happy and stable\n",
    "- Minor chord: Sad and moody\n",
    "- Diminished chord: Tense and unstable\n",
    "- Augmented chord: Suspense and dramatic\n",
    "\n",
    "<img src=\"image_musical\\chord.png\" width=\"400\" style=\"display: block; margin: auto;\">"
   ]
  },
  {
   "cell_type": "markdown",
   "metadata": {},
   "source": [
    "### Harmony  "
   ]
  },
  {
   "cell_type": "markdown",
   "metadata": {},
   "source": [
    "The combination of difference musical notes played or sung simutaneously to create chord and progressions.  \n",
    "- Consonant Harmony: Pleasant, stable sound (Perfect fifth, Major chords)\n",
    "- Dissonant Harmony: Tense, unstable sound (tritones, minor seconds, diminish or augmented chords)\n",
    "\n",
    "<img src=\"image_musical\\harmony.png\" width=\"400\" style=\"display: block; margin: auto;\">\n"
   ]
  },
  {
   "cell_type": "markdown",
   "metadata": {},
   "source": [
    "### Timbre & Overtone  \n"
   ]
  },
  {
   "cell_type": "markdown",
   "metadata": {},
   "source": [
    "Timbre is the unique tone color or quality of a sound that differentiates instruments and voices.\n",
    "\n",
    "<img src=\"image_musical\\timbre.png\" width=\"400\" style=\"display: block; margin: auto;\">\n",
    "\n",
    "Overtone is any frequncy is higher than the fundamental frequency of sound. It occurs when a musical note is played.  \n",
    "- Fundamental frequency (1st harmonic) is lowest frequency of a sound wave and to determine a pitch.  \n",
    "- Overtones are higher frequencies that resonate above the fundamental, if an overtone is a whole number multiple of fundamental frequency it is called a harmonic.\n",
    "\n",
    "<img src=\"image_musical\\overtone.png\" width=\"400\" style=\"display: block; margin: auto;\">"
   ]
  },
  {
   "cell_type": "markdown",
   "metadata": {},
   "source": [
    "### Envelop"
   ]
  },
  {
   "cell_type": "markdown",
   "metadata": {},
   "source": [
    "An envelop describe how a sound's amplitude, frequency, timbre changes over time. The most common kind of envelop generator has four stages:\n",
    "- Attack: time taken for the rise from begin to peak \n",
    "- Decay: time taken for the level to reduce from peak to sustain level\n",
    "- Sustain: level maintained until the key is released\n",
    "- Release: time taken for a sound fade away after the note is released\n",
    "\n",
    "\n",
    " \n",
    "<img src=\"image_musical\\ADSR.png\" width=\"400\" style=\"display: block; margin: auto;\">"
   ]
  },
  {
   "cell_type": "markdown",
   "metadata": {},
   "source": [
    "### Dynamics  "
   ]
  },
  {
   "cell_type": "markdown",
   "metadata": {},
   "source": [
    "The variations in loudness (volume) of notes or musical phrases, such as p (piano), f (forte), cressendo (<), decressendo (>)\n",
    "\n",
    "<img src=\"image_musical\\dynamics.png\" width=\"400\" style=\"display: block; margin: auto;\">\n"
   ]
  },
  {
   "cell_type": "markdown",
   "metadata": {},
   "source": [
    "### Articulation  "
   ]
  },
  {
   "cell_type": "markdown",
   "metadata": {},
   "source": [
    "The way a note is played or sung, affecting its attack and release, such as Staccato (•), Marcato (^), Tenuto (-), Accent (>)\n",
    "\n",
    "<img src=\"image_musical\\articulation.png\" width=\"400\" style=\"display: block; margin: auto;\">\n"
   ]
  },
  {
   "cell_type": "markdown",
   "metadata": {},
   "source": [
    "### Notation  "
   ]
  },
  {
   "cell_type": "markdown",
   "metadata": {},
   "source": [
    "The visual representation of music using symbols.  \n",
    "\n",
    "Component:\n",
    "- Staff: Five horizontal lines where notes are placed.\n",
    "- Clefs: Treble (G Clef), Bass (F Clef) or others.\n",
    "- Notes & Rests: Symbols representing pitch and duration.\n",
    "- Time Signatures: Indicate rhythmic structure (4/4, 6/8, etc.)\n",
    "- Key signature: Sharp or flats defining the scale of the piece.\n",
    "\n",
    "\n",
    "<img src=\"image_musical\\notation.png\" width=\"400\" style=\"display: block; margin: auto;\">\n"
   ]
  },
  {
   "cell_type": "markdown",
   "metadata": {},
   "source": [
    "### Texture In Music"
   ]
  },
  {
   "cell_type": "markdown",
   "metadata": {},
   "source": [
    "Texture is the way hamonies, melodies, rhythms and timbres relate to create overall effect of a piece of music. There are four common textures types are monophonic, polyphonic, homophonic and heterophonic.\n",
    "\n",
    "- Monophonic: only single melody line without harmony or any form of accompaniment. (Solo)\n",
    "\n",
    "- Polyphonic: consists of two or more independent melody lines. (Church song)\n",
    "\n",
    "- Homophonic: consist of a primary melody line with accompaniment (homorhythmic, blocked-chord and arpeggiated). (Accapella, music instrument with singer)\n",
    "\n",
    "- Heterophonic: consist of multiple player with same melody line. (same melody with difference instrument)\n",
    "\n",
    "<img src=\"image_musical\\texture.png\" width=\"400\" style=\"display: block; margin: auto;\">\n"
   ]
  },
  {
   "cell_type": "markdown",
   "metadata": {},
   "source": [
    "### **Reference :**  "
   ]
  },
  {
   "cell_type": "markdown",
   "metadata": {},
   "source": [
    "https://pianointune.blogspot.com/2010/08/musical-note-frequencies.html    \n",
    "https://study.com/academy/lesson/overtone-definition-lesson-quiz.html  \n",
    "https://www.audiolabs-erlangen.de/resources/MIR/FMP/C5/C5S1_Intervals.html  \n",
    "https://www.evanrogersmusic.com/blog-contents/big-band-arranging/articulation  \n",
    "https://www.jneurosci.org/content/29/42/13165/tab-figures-data  \n",
    "https://math.libretexts.org/Courses/College_of_the_Canyons/Musical-Scales  \n",
    "https://learnmusictheory.net/PDFs/pdffiles/01-05-01-TextureInMusic.pdf  \n",
    "https://www.musictheoryacademy.com/understanding-music/musical-texture/  \n",
    "https://adieusounds.com/blogs/news/a-comprehensive-guide-on-how-to-use-the-adsr-envelope"
   ]
  }
 ],
 "metadata": {
  "language_info": {
   "name": "python"
  }
 },
 "nbformat": 4,
 "nbformat_minor": 2
}
