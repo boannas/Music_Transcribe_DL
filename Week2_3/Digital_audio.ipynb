{
 "cells": [
  {
   "cell_type": "markdown",
   "metadata": {},
   "source": [
    "# **Digital Audio**"
   ]
  },
  {
   "cell_type": "markdown",
   "metadata": {},
   "source": [
    "Digital audio is audio system that collect, construct and arrange to new audio data that computer can read. Computer can not read analog wave so, we need to convert analog to digital (0,1). So in process to convert to digital has 2 major component: Sampling rate and Bit depth, both will be use for reconstruct to waveform."
   ]
  },
  {
   "cell_type": "markdown",
   "metadata": {},
   "source": [
    "### Sampling Theory  \n",
    "Nyquist theorem, aliasing, and sample rates"
   ]
  },
  {
   "cell_type": "markdown",
   "metadata": {},
   "source": [
    "#### Sampling rate (Like frame rate in video)  "
   ]
  },
  {
   "cell_type": "markdown",
   "metadata": {},
   "source": [
    "- `Sampling`: is how continuous time signal convert into discrete time signal and the sampling rate is the number of samples taken per second when convert continous analog signal to discrete digital signal. The higher sampling rate, more capture of the audio signal. In audio sampling rate is measured in kiloHertz (kHz) and it determines the range of frequencies captured in digital audio.\n",
    "\n",
    "<img src=\"digital_audio\\ADC.png\" width=\"800\" style=\"display: block; margin: auto;\">\n",
    "\n",
    "- `The Nyquist Theorem`: sampled at a rate at least two times the highest frequency component in the signal. If the highest frequency components are not more than half the sampling rate can be accurately digitized.\n",
    "\n",
    "<img src=\"digital_audio\\nyquist.png\" width=\"600\" style=\"display: block; margin: auto;\">\n",
    "\n",
    "The most commonly sample rate used in music production is 44.1kHz, which is suitable for capturing frequencies up to 20kHz, the upper limit of human hearing. However, some high end audio support sampling rate for 192kHz, providing even greater accuracy and fildelity (how accurately a copy reproduces its source).  \n",
    "[Audio Sampling rate comparison](https://www.youtube.com/watch?v=hRhVb6iRArg)\n",
    "\n",
    "- `Aliasing` is a distortion when sampling rate is lower than the highest frequency or under sampling. This causes higher frequency to appear as lower frequency, leading to misrepresentation to original signal.\n",
    "\n",
    "<img src=\"digital_audio\\aliasing.png\" width=\"600\" style=\"display: block; margin: auto;\">\n"
   ]
  },
  {
   "cell_type": "markdown",
   "metadata": {},
   "source": [
    "### Bit Depth & Quantization  \n",
    "16-bit vs. 24-bit vs. 32-bit float audio."
   ]
  },
  {
   "cell_type": "markdown",
   "metadata": {},
   "source": [
    "`Bit depth` is directly influences the dynamics range of audio recording, the range between the quiestest to the loudest part of the audio record. More higher bit depth means more dynamic range and more accurate representation of the original sound.\n",
    "\n",
    "<img src=\"digital_audio\\bit_depth.png\" width=\"600\" style=\"display: block; margin: auto;\">\n",
    "\n",
    "Bit depth effect to dynamic range ?  \n",
    "Each \"bit\" equal to 6dB  \n",
    "- 8 bit - 48dB\n",
    "- 16 bit - 96dB\n",
    "- 24 bit - 144dB\n",
    "- 32 bit - 192dB\n",
    "\n",
    "Higher bit depth means a greater dynamic range possible because it has a greater range of values availiable to assign to the amplitude of the analog signal.\n",
    "\n",
    "[Audio bit depth comparison](https://youtu.be/JdaVghXJ_4E?si=fWY8R0bqTRPXH4uZ)\n",
    "\n",
    "\n",
    "`Quantization`, is process of mapping from Analog to digital and the difference between analog value and quantized value (digital value) is reffered to a quantization error, noise or distortion.\n",
    "\n",
    "<img src=\"digital_audio\\quantization.png\" width=\"600\" style=\"display: block; margin: auto;\">\n",
    "\n",
    "As we convert analog signals into audio, some details get lost in translation but higher bit depth can reduces quatization noise by larger set of availiable values for each audio sample.\n",
    "\n"
   ]
  },
  {
   "cell_type": "markdown",
   "metadata": {},
   "source": [
    "### Audio File Formats  \n",
    "MP3, WAV, FLAC, OGG, AAC, etc."
   ]
  },
  {
   "cell_type": "markdown",
   "metadata": {},
   "source": [
    "Audio file formats are types of digital files that stored, compressed, and encoded audio data\n",
    "\n",
    "File formats are 4 format \n",
    "- Uncompressed Audio Format: raw, high fidelity, best quality (WAV, AIFF, PCM, BWF, etc.)\n",
    "- Lossless Compressed Audio Format: reduce file size without losing audio quality by applying reversible compression (FLAC, ALAC, WavPack, APE, etc.)\n",
    "- Lossy Compressed Audio Format: reduce file size by removeing inaudible sound data. (MP3, AAC, OGG, OPUS, etc.)\n",
    "- Specialized Audio Format: for specific application, game audio, surround sound, or MIDI music (MIDI, BWF, DTS/Dolby Digital, etc.)"
   ]
  },
  {
   "cell_type": "markdown",
   "metadata": {},
   "source": [
    "### Digital Signal Processing (DSP)  \n",
    "Filtering, convolution, FFT."
   ]
  },
  {
   "cell_type": "markdown",
   "metadata": {},
   "source": [
    "### Reference:  \n",
    "https://ccrma.stanford.edu/CCRMA/Courses/SoundSynthesis/Lectures/3/Slides.html  \n",
    "https://neurotext.library.stonybrook.edu/C7/C7_1/C7_1.html  \n",
    "https://www.researchgate.net/publication/379442966_Exploring_the_potential_of_smartphone_MEMS_sensors_for_cost-effective_rotating_machinery_speed_estimation/figures?lo=1  \n",
    "https://www.lalal.ai/blog/sample-rate-bit-depth-explained/  \n",
    "https://unison.audio/bit-depth/\n",
    "https://www.musicguymixing.com/bit-depth/"
   ]
  }
 ],
 "metadata": {
  "kernelspec": {
   "display_name": "Python 3",
   "language": "python",
   "name": "python3"
  },
  "language_info": {
   "codemirror_mode": {
    "name": "ipython",
    "version": 3
   },
   "file_extension": ".py",
   "mimetype": "text/x-python",
   "name": "python",
   "nbconvert_exporter": "python",
   "pygments_lexer": "ipython3",
   "version": "3.11.2"
  }
 },
 "nbformat": 4,
 "nbformat_minor": 2
}
