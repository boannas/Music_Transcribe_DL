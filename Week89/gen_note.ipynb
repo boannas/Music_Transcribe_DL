{
 "cells": [
  {
   "cell_type": "code",
   "execution_count": 3,
   "metadata": {},
   "outputs": [
    {
     "name": "stdout",
     "output_type": "stream",
     "text": [
      "[✓] Sequence MIDI saved as 'gen_piano\\custom_sequence.mid'\n"
     ]
    }
   ],
   "source": [
    "import pretty_midi\n",
    "import os\n",
    "\n",
    "def generate_midi_from_sequence(filename_midi, notes, durations):\n",
    "    note_to_midi = {\n",
    "        'C4': 60, 'D4': 62, 'E4': 64,\n",
    "        'F4': 65, 'G4': 67, 'A4': 69, \n",
    "        'B4': 71, 'C5': 72\n",
    "    }\n",
    "\n",
    "    if len(notes) != len(durations):\n",
    "        raise ValueError(\"Length of notes and durations must be equal.\")\n",
    "\n",
    "    # Initialize MIDI object and instrument\n",
    "    midi = pretty_midi.PrettyMIDI()\n",
    "    piano = pretty_midi.Instrument(program=pretty_midi.instrument_name_to_program('Acoustic Grand Piano'))\n",
    "\n",
    "    current_time = 0.0\n",
    "    for note_name, dur in zip(notes, durations):\n",
    "        if note_name not in note_to_midi:\n",
    "            raise ValueError(f\"Note {note_name} is not defined in the MIDI map.\")\n",
    "        pitch = note_to_midi[note_name]\n",
    "        note = pretty_midi.Note(velocity=100, pitch=pitch, start=current_time, end=current_time + dur)\n",
    "        piano.notes.append(note)\n",
    "        current_time += dur  # move to next start time\n",
    "\n",
    "    midi.instruments.append(piano)\n",
    "    midi.write(filename_midi)\n",
    "    print(f\"[✓] Sequence MIDI saved as '{filename_midi}'\")\n",
    "\n",
    "# Example usage\n",
    "if __name__ == \"__main__\":\n",
    "    notes = ['C4', 'D4', 'E4', 'F4', 'G4', 'A4', 'B4', 'C5',   'C5', 'B4', 'A4', 'G4', 'F4', 'E4', 'D4', 'C4']\n",
    "    durations = [0.5, 0.5, 0.5, 0.5, 0.5, 0.5, 0.5, 0.5,    1.0, 0.3, 0.4, 0.8, 0.2, 0.7, .9, 1.7 ]  # total = 6 seconds\n",
    "    filename = os.path.join(\"gen_piano\", \"custom_sequence.mid\")\n",
    "    generate_midi_from_sequence(filename, notes, durations)\n"
   ]
  },
  {
   "cell_type": "code",
   "execution_count": null,
   "metadata": {},
   "outputs": [],
   "source": [
    "import random\n",
    "\n",
    "def generate_random_c_major_midi(filename_midi, k=10, duration_sec=10):\n",
    "    # Define MIDI numbers for C4 to B4 (C major scale)\n",
    "    c_major_oct4 = {\n",
    "        'C4': 60, 'D4': 62, 'E4': 64,\n",
    "        'F4': 65, 'G4': 67, 'A4': 69, 'B4': 71, 'C5': 72\n",
    "    }\n",
    "    notes_list = list(c_major_oct4.values())\n",
    "\n",
    "    # Create a PrettyMIDI object and a piano instrument\n",
    "    midi = pretty_midi.PrettyMIDI()\n",
    "    piano = pretty_midi.Instrument(program=pretty_midi.instrument_name_to_program('Acoustic Grand Piano'))\n",
    "\n",
    "    # Calculate duration of each note\n",
    "    note_duration = duration_sec / k\n",
    "\n",
    "    for i in range(k):\n",
    "        pitch = random.choice(notes_list)\n",
    "        start = i * note_duration\n",
    "        end = start + note_duration\n",
    "        note = pretty_midi.Note(velocity=100, pitch=pitch, start=start, end=end)\n",
    "        piano.notes.append(note)\n",
    "\n",
    "    # Add instrument and write MIDI\n",
    "    midi.instruments.append(piano)\n",
    "    midi.write(filename_midi)\n",
    "    print(f\"[✓] Random melody saved as '{filename_midi}'\")\n",
    "\n",
    "# Example usage\n",
    "if __name__ == \"__main__\":\n",
    "    k = 10  # Number of random notes\n",
    "    num_file = 50\n",
    "    for i in range (num_file):\n",
    "        filename = f\"gen_{i}.mid\"\n",
    "        file_path = os.path.join(\"gen_piano\", filename)\n",
    "        generate_random_c_major_midi(file_path, k=k, duration_sec=10)\n"
   ]
  }
 ],
 "metadata": {
  "kernelspec": {
   "display_name": "env",
   "language": "python",
   "name": "python3"
  },
  "language_info": {
   "codemirror_mode": {
    "name": "ipython",
    "version": 3
   },
   "file_extension": ".py",
   "mimetype": "text/x-python",
   "name": "python",
   "nbconvert_exporter": "python",
   "pygments_lexer": "ipython3",
   "version": "3.10.11"
  }
 },
 "nbformat": 4,
 "nbformat_minor": 2
}
