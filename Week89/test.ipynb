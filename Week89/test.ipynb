{
 "cells": [
  {
   "cell_type": "code",
   "execution_count": 5,
   "id": "6fca4c15",
   "metadata": {},
   "outputs": [],
   "source": [
    "import audio_preprocess as ap\n",
    "import librosa\n",
    "import numpy as np\n",
    "import os"
   ]
  },
  {
   "cell_type": "code",
   "execution_count": null,
   "id": "401f488e",
   "metadata": {},
   "outputs": [],
   "source": [
    "# ========== Configuration ==========\n",
    "audio_path = 'gen_audio'\n",
    "midi_path = 'gen_piano'\n",
    "num_sample = 50  # Assumes files gen_1.mp3 to gen_(num_sample-1).mp3\n",
    "sr = 22050\n",
    "hop_length_sec = 0.01\n",
    "hop_length = int(hop_length_sec * sr)\n",
    "fmin = librosa.note_to_hz('A0')\n",
    "bins_per_octave = 36\n",
    "n_bins = 267\n",
    "pitch_min = 21\n",
    "pitch_max = 108\n",
    "\n",
    "\n",
    "    num_sample = 50\n"
   ]
  },
  {
   "cell_type": "code",
   "execution_count": null,
   "id": "53a1222c",
   "metadata": {},
   "outputs": [],
   "source": [
    "# ========== Main Loop for Multiple Samples ==========\n",
    "cqt_list = []\n",
    "piano_list = []\n",
    "\n",
    "for i in range(num_sample):\n",
    "    if i:  # starts from 1\n",
    "        audio = os.path.join(audio_path, f'gen_{i}.mp3')\n",
    "        midi = os.path.join(midi_path, f'gen_{i}.mid')\n",
    "        cqt, piano = plot_cqt_with_pianoroll(audio, midi)\n",
    "        cqt_list.append(cqt)\n",
    "        piano_list.append(piano)\n",
    "\n",
    "# ========== Concatenate and Plot ==========\n",
    "cqt_concat = np.concatenate(cqt_list, axis=1)\n",
    "piano_concat = np.concatenate(piano_list, axis=1)"
   ]
  }
 ],
 "metadata": {
  "kernelspec": {
   "display_name": "env",
   "language": "python",
   "name": "python3"
  },
  "language_info": {
   "codemirror_mode": {
    "name": "ipython",
    "version": 3
   },
   "file_extension": ".py",
   "mimetype": "text/x-python",
   "name": "python",
   "nbconvert_exporter": "python",
   "pygments_lexer": "ipython3",
   "version": "3.10.11"
  }
 },
 "nbformat": 4,
 "nbformat_minor": 5
}
