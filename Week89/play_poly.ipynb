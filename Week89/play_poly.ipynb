{
 "cells": [
  {
   "cell_type": "code",
   "execution_count": 1,
   "metadata": {},
   "outputs": [],
   "source": [
    "import tensorflow as tf\n",
    "import librosa\n",
    "import numpy as np"
   ]
  },
  {
   "cell_type": "code",
   "execution_count": 2,
   "metadata": {},
   "outputs": [],
   "source": [
    "from tensorflow.keras import backend as K\n",
    "\n",
    "# Define your custom metric again exactly as before\n",
    "def f1_metric(y_true, y_pred):\n",
    "    y_pred_bin = K.round(y_pred)\n",
    "    tp = K.sum(K.cast(y_true * y_pred_bin, 'float32'))\n",
    "    predicted_positives = K.sum(K.cast(y_pred_bin, 'float32'))\n",
    "    possible_positives = K.sum(K.cast(y_true, 'float32'))\n",
    "\n",
    "    precision = tp / (predicted_positives + K.epsilon())\n",
    "    recall = tp / (possible_positives + K.epsilon())\n",
    "    f1 = 2 * (precision * recall) / (precision + recall + K.epsilon())\n",
    "    return f1\n",
    "\n",
    "# Now load the model with the metric passed explicitly\n",
    "model = tf.keras.models.load_model(\"master_Earlystop_0_004_val_100ep.h5\", custom_objects={'f1_metric': f1_metric})\n"
   ]
  },
  {
   "cell_type": "code",
   "execution_count": 3,
   "metadata": {},
   "outputs": [],
   "source": [
    "# === CQT Configuration ===\n",
    "hop_length_sec = 0.01               # 10 ms\n",
    "fmin = 27.5     # Start at A0 (piano)\n",
    "bins_per_octave = 36                # 3 bins per semitone\n",
    "n_bins = 267                        # Covers A0 to C8\n",
    "sr = 22050\n",
    "hop_length = int(hop_length_sec * sr)\n",
    "# hop_length"
   ]
  },
  {
   "cell_type": "code",
   "execution_count": 10,
   "metadata": {},
   "outputs": [],
   "source": [
    "import os\n",
    "# path = r'F:\\Dataset_open_topic\\maestro-v3.0.0_all\\maestro-v3.0.0'\n",
    "# audio_path = r'2008/MIDI-Unprocessed_14_R1_2008_01-05_ORIG_MID--AUDIO_14_R1_2008_wav--1.wav'\n",
    "# audio_path = os.path.join(path, audio_path)\n",
    "audio_path = \"Merry-Go-Round of Life - Howl's Moving Castle [Piano]  Joe Hisaishi.mp3\"\n",
    "y, _ = librosa.load(audio_path, sr=sr)\n",
    "\n",
    "C = librosa.cqt(\n",
    "    y, sr=sr,\n",
    "    hop_length=hop_length,\n",
    "    fmin=fmin,\n",
    "    n_bins=n_bins,\n",
    "    bins_per_octave=bins_per_octave\n",
    ")\n",
    "C_dB = librosa.amplitude_to_db(np.abs(C), ref=np.max)\n",
    "# C_dB = np.load(r\"F:\\Dataset_open_topic\\maestro-v3.0.0_all\\Processed_data\\train2\\MIDI-Unprocessed_Chamber3_MID--AUDIO_10_R3_2018_wav--1.wav_0.npy\")\n"
   ]
  },
  {
   "cell_type": "code",
   "execution_count": 11,
   "metadata": {},
   "outputs": [
    {
     "data": {
      "text/plain": [
       "(267, 32843)"
      ]
     },
     "execution_count": 11,
     "metadata": {},
     "output_type": "execute_result"
    }
   ],
   "source": [
    "X_test = C_dB[:, :]\n",
    "X_test.shape"
   ]
  },
  {
   "cell_type": "code",
   "execution_count": 149,
   "metadata": {},
   "outputs": [],
   "source": [
    "# librosa.display.specshow(X_test, sr=sr, hop_length=hop_length,\n",
    "#                             x_axis='time', y_axis='cqt_note',\n",
    "#                             fmin=fmin, bins_per_octave=bins_per_octave,\n",
    "#                             cmap='magma')\n"
   ]
  },
  {
   "cell_type": "code",
   "execution_count": 12,
   "metadata": {},
   "outputs": [
    {
     "name": "stdout",
     "output_type": "stream",
     "text": [
      "Sliding Window X_input Shape: (32843, 267, 9, 1)\n"
     ]
    }
   ],
   "source": [
    "\n",
    "def create_sliding_windows(cqt, window_size=9, stride=1):\n",
    "    pad = window_size // 2  # pad equally on both sides\n",
    "    cqt_padded = np.pad(cqt, ((0, 0), (pad, pad)), mode='edge')  # pad only time axis\n",
    "    num_time_bins = cqt.shape[1]\n",
    "\n",
    "    windows = np.array([\n",
    "        cqt_padded[:, i:i + window_size]  # shape: (267, window_size)\n",
    "        for i in range(0, num_time_bins, stride)\n",
    "    ])\n",
    "    return windows[..., np.newaxis]  # shape: (1000, 267, 9, 1)\n",
    "\n",
    "\n",
    "X_input = create_sliding_windows(X_test, window_size=9, stride=1)  # (num_windows, 267, 9, 1)\n",
    "print(\"Sliding Window X_input Shape:\", X_input.shape)"
   ]
  },
  {
   "cell_type": "code",
   "execution_count": 13,
   "metadata": {},
   "outputs": [
    {
     "name": "stdout",
     "output_type": "stream",
     "text": [
      "1027/1027 [==============================] - 7s 6ms/step\n",
      "Output size :  (32843, 128)\n"
     ]
    }
   ],
   "source": [
    "predict = model.predict(X_input)\n",
    "print(\"Output size : \", predict.shape)"
   ]
  },
  {
   "cell_type": "code",
   "execution_count": 8,
   "metadata": {},
   "outputs": [],
   "source": [
    "import pretty_midi\n",
    "import numpy as np\n",
    "\n",
    "def model_output_to_midi(output, sr=22050, hop_length=220, threshold=0.5, filename=\"model_output.mid\"):\n",
    "\n",
    "    fs = sr / hop_length  # frames per second\n",
    "    time_per_frame = 1.0 / fs\n",
    "\n",
    "    # Threshold the output if it's not binary already\n",
    "    binary_roll = (output > threshold).astype(np.uint8)\n",
    "\n",
    "    # Create MIDI object and instrument\n",
    "    midi_out = pretty_midi.PrettyMIDI()\n",
    "    instrument = pretty_midi.Instrument(program=0)  # Acoustic Grand Piano\n",
    "\n",
    "    # Loop over each pitch (0 to 127)\n",
    "    for pitch in range(128):\n",
    "        active = binary_roll[:, pitch]\n",
    "        changes = np.diff(np.pad(active, (1, 1)))\n",
    "        onsets = np.where(changes == 1)[0]\n",
    "        offsets = np.where(changes == 255)[0]\n",
    "\n",
    "        for start_idx, end_idx in zip(onsets, offsets):\n",
    "            start = start_idx * time_per_frame\n",
    "            end = end_idx * time_per_frame\n",
    "            note = pretty_midi.Note(velocity=100, pitch=pitch, start=start, end=end)\n",
    "            instrument.notes.append(note)\n",
    "    midi_out.instruments.append(instrument)\n",
    "    midi_out.write(filename)\n",
    "    print(midi_out)\n",
    "    print(f\"MIDI file saved as: {filename}\")\n"
   ]
  },
  {
   "cell_type": "code",
   "execution_count": 14,
   "metadata": {},
   "outputs": [
    {
     "name": "stdout",
     "output_type": "stream",
     "text": [
      "<pretty_midi.pretty_midi.PrettyMIDI object at 0x00000211F38A7F40>\n",
      "MIDI file saved as: moving_castle.mid\n"
     ]
    }
   ],
   "source": [
    "save_file = 'moving_castle.mid'\n",
    "model_output_to_midi(predict,sr=sr, hop_length=hop_length, filename=save_file)"
   ]
  },
  {
   "cell_type": "code",
   "execution_count": 162,
   "metadata": {},
   "outputs": [],
   "source": [
    "# save_file = 'master_0.mid'\n",
    "\n",
    "# midi_path = r'sample_out.mid'\n",
    "midi_data = pretty_midi.PrettyMIDI(save_file)\n",
    "fs_pianoroll = sr / hop_length  # Frame rate to match CQT\n",
    "piano_roll = midi_data.get_piano_roll(fs=fs_pianoroll)"
   ]
  },
  {
   "cell_type": "code",
   "execution_count": 163,
   "metadata": {},
   "outputs": [
    {
     "name": "stdout",
     "output_type": "stream",
     "text": [
      "Audio duration (sec): 231.44585034013605\n",
      "CQT frames: 23198\n",
      "Piano roll frames: 22521\n",
      "Frame duration (sec): 0.009977324263038548\n"
     ]
    }
   ],
   "source": [
    "print(\"Audio duration (sec):\", len(y) / sr)\n",
    "print(\"CQT frames:\", C_dB.shape[1])\n",
    "print(\"Piano roll frames:\", piano_roll.shape[1])\n",
    "print(\"Frame duration (sec):\", hop_length / sr)"
   ]
  },
  {
   "cell_type": "code",
   "execution_count": 62,
   "metadata": {},
   "outputs": [],
   "source": [
    "# import matplotlib.pyplot as plt\n",
    "# pitch_min = 21    # A0\n",
    "# pitch_max = 108   # C8\n",
    "# duration_sec = piano_roll.shape[1] * hop_length / sr\n",
    "\n",
    "# # Plot setup\n",
    "# fig, axs = plt.subplots(2, 1, figsize=(14, 8), sharex=True)\n",
    "\n",
    "# # === Plot CQT ===\n",
    "# librosa.display.specshow(\n",
    "#     X_test,\n",
    "#     sr=sr,\n",
    "#     hop_length=hop_length,\n",
    "#     x_axis='s',                  # <--- force time in seconds\n",
    "#     y_axis='cqt_note',\n",
    "#     fmin=fmin,\n",
    "#     bins_per_octave=bins_per_octave,\n",
    "#     cmap='magma',\n",
    "#     ax=axs[0]\n",
    "# )\n",
    "# axs[0].set_title(\"CQT Spectrogram\")\n",
    "# axs[0].label_outer()  # hide x-label\n",
    "\n",
    "# # === Plot Piano Roll ===\n",
    "# pitch_min = 21\n",
    "# pitch_max = 108\n",
    "\n",
    "# axs[1].imshow(\n",
    "#     piano_roll[pitch_min:pitch_max+1,:],\n",
    "#     aspect='auto',\n",
    "#     origin='lower',\n",
    "#     cmap='gray_r',\n",
    "#     interpolation='nearest',\n",
    "#     extent=[0, duration_sec, pitch_min, pitch_max]\n",
    "# )\n",
    "\n",
    "# axs[1].set_xlabel('Time (seconds)')\n",
    "# axs[1].set_ylabel('MIDI Pitch (Note Names)')\n",
    "# axs[1].set_title('Piano Roll')\n",
    "# axs[1].set_ylim(pitch_min, pitch_max)\n",
    "\n",
    "# # Label only natural C notes\n",
    "# c_notes = [n for n in range(pitch_min, pitch_max+1)\n",
    "#            if pretty_midi.note_number_to_name(n).startswith('C') and '#' not in pretty_midi.note_number_to_name(n)]\n",
    "# axs[1].set_yticks(c_notes)\n",
    "# axs[1].set_yticklabels([pretty_midi.note_number_to_name(n) for n in c_notes])\n",
    "\n",
    "# plt.tight_layout()\n",
    "# plt.show()\n"
   ]
  },
  {
   "cell_type": "code",
   "execution_count": 63,
   "metadata": {},
   "outputs": [],
   "source": [
    "# import librosa.display\n",
    "# import matplotlib.pyplot as plt\n",
    "# import numpy as np\n",
    "\n",
    "# def plot_cqt_spectrogram(X_cqt, sr, hop_length, fmin, bins_per_octave, fs=100, title=\"CQT Spectrogram\"):\n",
    "#     fig, ax = plt.subplots(1, 1, figsize=(24, 5))  # Match subplot height\n",
    "\n",
    "#     # Plot CQT\n",
    "#     librosa.display.specshow(\n",
    "#         X_cqt[:, 35000:36000],  # Match shape if necessary\n",
    "#         sr=sr,\n",
    "#         hop_length=hop_length,\n",
    "#         x_axis='s',\n",
    "#         y_axis='cqt_note',\n",
    "#         fmin=fmin,\n",
    "#         bins_per_octave=bins_per_octave,\n",
    "#         cmap='magma',\n",
    "#         ax=ax\n",
    "#     )\n",
    "\n",
    "#     # Customize ticks similar to plot_full_comparison\n",
    "#     time_len = X_cqt.shape[1]\n",
    "#     xticks = np.arange(0, time_len, fs)\n",
    "#     xtick_labels = [f\"{x * hop_length / sr:.1f}\" for x in xticks]\n",
    "#     ax.set_xticks(xticks)\n",
    "#     ax.set_xticklabels(xtick_labels)\n",
    "#     ax.set_title(title)\n",
    "#     ax.set_xlabel(\"Time (s)\")\n",
    "#     ax.set_ylabel(\"Note\")\n",
    "#     # ax.set_ylim(0, X_test.shape[0])  # y-axis\n",
    "#     ax.set_xlim(0, 10)             # x-axis\n",
    "\n",
    "\n",
    "#     plt.tight_layout()\n",
    "#     plt.show()\n",
    "\n",
    "# # Example call:\n",
    "# plot_cqt_spectrogram(X_test, sr=sr, hop_length=hop_length, fmin=fmin, bins_per_octave=bins_per_octave)\n"
   ]
  },
  {
   "cell_type": "code",
   "execution_count": 164,
   "metadata": {},
   "outputs": [],
   "source": [
    "import matplotlib.patches as mpatches\n",
    "\n",
    "def get_binary_roll(pr, threshold=0):\n",
    "    return (pr > threshold).astype(np.int8)\n",
    "\n",
    "def classify_notes(gt, pred):\n",
    "    TP = (gt == 1) & (pred == 1)\n",
    "    FN = (gt == 1) & (pred == 0)\n",
    "    FP = (gt == 0) & (pred == 1)\n",
    "    return TP, FN, FP\n",
    "\n",
    "def align_pianorolls(pr1, pr2):\n",
    "    max_len = max(pr1.shape[1], pr2.shape[1])\n",
    "    pr1_aligned = np.pad(pr1, ((0, 0), (0, max_len - pr1.shape[1])), mode='constant')\n",
    "    pr2_aligned = np.pad(pr2, ((0, 0), (0, max_len - pr2.shape[1])), mode='constant')\n",
    "    return pr1_aligned, pr2_aligned\n",
    "\n",
    "def compute_difference(pr1, pr2):\n",
    "    return np.abs(pr1 - pr2)  # absolute difference"
   ]
  },
  {
   "cell_type": "code",
   "execution_count": 193,
   "metadata": {},
   "outputs": [],
   "source": [
    "\n",
    "\n",
    "\n",
    "# midi_1 = r'output/sample.mid'\n",
    "file_name = '2017/MIDI-Unprocessed_059_PIANO059_MID--AUDIO-split_07-07-17_Piano-e_2-03_wav--4.midi'\n",
    "save_file = 'master_0.mid'\n",
    "\n",
    "midi_1 = os.path.join(path, file_name)\n",
    "midi_data_1 = pretty_midi.PrettyMIDI(midi_1)\n",
    "midi_data_2 = pretty_midi.PrettyMIDI(save_file)\n",
    "\n",
    "fs_pianoroll = sr / hop_length  # Frame rate to match CQT\n",
    "piano_roll_1 = midi_data_1.get_piano_roll(fs=fs_pianoroll)[:, :]\n",
    "piano_roll_2 = midi_data_2.get_piano_roll(fs=fs_pianoroll)[:, :]\n",
    "\n",
    "m1, m2 = align_pianorolls(piano_roll_1, piano_roll_2)\n",
    "diff = compute_difference(m1, m2)\n",
    "\n",
    "fs = sr / hop_length  # your sampling rate/hop setup\n",
    "pr1 = midi_data_1.get_piano_roll(fs=fs)[:, :]\n",
    "pr2 = midi_data_2.get_piano_roll(fs=fs)[:, :]\n",
    "\n",
    "pr1_bin = get_binary_roll(pr1)\n",
    "pr2_bin = get_binary_roll(pr2)\n",
    "\n",
    "m1_bin, m2_bin = align_pianorolls(pr1_bin, pr2_bin)\n",
    "TP, FN, FP = classify_notes(m1_bin, m2_bin)\n"
   ]
  },
  {
   "cell_type": "code",
   "execution_count": 187,
   "metadata": {},
   "outputs": [],
   "source": [
    "# import matplotlib.pyplot as plt\n",
    "# def plot_full_comparison(pr1, pr2, TP, FN, FP, fs=100, title=\"Piano Roll + Note-wise Evaluation\"):\n",
    "#     fig, axs = plt.subplots(3, 1, figsize=(24, 10), sharex=True)\n",
    "\n",
    "#     time_len = pr1.shape[1]\n",
    "#     xticks = np.arange(0, time_len, fs)\n",
    "#     xtick_labels = [f\"{x/fs:.1f}\" for x in xticks]\n",
    "#     yticks = np.arange(0, 128, 12)\n",
    "#     ylabels = [f'C{i}' for i in range(11)]\n",
    "\n",
    "#     # --- 1. First Piano Roll\n",
    "#     axs[0].imshow(pr1, aspect='auto', origin='lower', cmap='Greens')\n",
    "#     axs[0].set_yticks(yticks)\n",
    "#     axs[0].set_yticklabels(ylabels)\n",
    "#     axs[0].set_title(\"MIDI File 1\")\n",
    "#     axs[0].set_ylabel(\"MIDI Note\")\n",
    "#     axs[0].set_xticks(xticks)\n",
    "#     axs[0].set_xticklabels(xtick_labels)\n",
    "\n",
    "#     # --- 2. Second Piano Roll\n",
    "#     axs[1].imshow(pr2, aspect='auto', origin='lower', cmap='Blues')\n",
    "#     axs[1].set_yticks(yticks)\n",
    "#     axs[1].set_yticklabels(ylabels)\n",
    "#     axs[1].set_title(\"MIDI File 2\")\n",
    "#     axs[1].set_ylabel(\"MIDI Note\")\n",
    "#     axs[1].set_xticks(xticks)\n",
    "#     axs[1].set_xticklabels(xtick_labels)\n",
    "\n",
    "#     # --- 3. Note-wise Evaluation with Rectangles\n",
    "#     axs[2].imshow(np.ones_like(TP), cmap=\"gray_r\", origin=\"lower\", aspect='auto')  # white background\n",
    "#     for matrix, color in zip([TP, FN, FP], ['blue', 'limegreen', 'red']):\n",
    "#         y, x = np.where(matrix)\n",
    "#         for xi, yi in zip(x, y):\n",
    "#             rect = mpatches.Rectangle((xi, yi), 1, 1, color=color)\n",
    "#             axs[2].add_patch(rect)\n",
    "\n",
    "#     axs[2].set_yticks(yticks)\n",
    "#     axs[2].set_yticklabels(ylabels)\n",
    "#     axs[2].set_title(\"Note-wise Evaluation (TP, FN, FP)\")\n",
    "#     axs[2].set_xlabel(\"Time (s)\")\n",
    "#     axs[2].set_ylabel(\"MIDI Note\")\n",
    "#     axs[2].set_xticks(xticks)\n",
    "#     axs[2].set_xticklabels(xtick_labels)\n",
    "\n",
    "#     # Legend\n",
    "#     patches = [\n",
    "#         mpatches.Patch(color='blue', label='TP'),\n",
    "#         mpatches.Patch(color='limegreen', label='FN'),\n",
    "#         mpatches.Patch(color='red', label='FP')\n",
    "#     ]\n",
    "#     axs[2].legend(handles=patches, loc='upper left')\n",
    "\n",
    "#     fig.suptitle(title, fontsize=16)\n",
    "#     plt.tight_layout(rect=[0, 0, 1, 0.97])\n",
    "#     plt.show()\n",
    "# plot_full_comparison(m1_bin, m2_bin, TP, FN, FP, fs)\n"
   ]
  },
  {
   "cell_type": "code",
   "execution_count": 191,
   "metadata": {},
   "outputs": [],
   "source": [
    "import matplotlib.pyplot as plt\n",
    "import matplotlib.patches as mpatches\n",
    "import numpy as np\n",
    "\n",
    "def plot_piano_rolls(pr1, pr2, fs=100, title=\"Piano Roll Comparison\"):\n",
    "    time_len = pr1.shape[1]\n",
    "    xticks = np.arange(0, time_len, fs)\n",
    "    xtick_labels = [f\"{x/fs:.1f}\" for x in xticks]\n",
    "    yticks = np.arange(0, 128, 12)\n",
    "    ylabels = [f'C{i}' for i in range(11)]\n",
    "\n",
    "    fig, axs = plt.subplots(2, 1, figsize=(24, 10), sharex=True)\n",
    "\n",
    "    axs[0].imshow(pr1, aspect='auto', origin='lower', cmap='Greens')\n",
    "    axs[0].set_yticks(yticks)\n",
    "    axs[0].set_yticklabels(ylabels)\n",
    "    axs[0].set_title(\"Reference MIDI\")\n",
    "    axs[0].set_ylabel(\"MIDI Note\")\n",
    "    axs[0].set_xticks(xticks)\n",
    "    axs[0].set_xticklabels(xtick_labels)\n",
    "    # axs[0].set_ylim(55, 65)\n",
    "\n",
    "\n",
    "    axs[1].imshow(pr2, aspect='auto', origin='lower', cmap='Blues')\n",
    "    axs[1].set_yticks(yticks)\n",
    "    axs[1].set_yticklabels(ylabels)\n",
    "    axs[1].set_title(\"Estimated MIDI\")\n",
    "    axs[1].set_ylabel(\"MIDI Note\")\n",
    "    axs[1].set_xlabel(\"Time (s)\")\n",
    "    axs[1].set_xticks(xticks)\n",
    "    axs[1].set_xticklabels(xtick_labels)\n",
    "    # axs[1].set_ylim(55,65)\n",
    "\n",
    "    fig.suptitle(title, fontsize=16)\n",
    "    plt.tight_layout(rect=[0, 0, 1, 0.95])\n",
    "    plt.show()\n",
    "\n",
    "import matplotlib.pyplot as plt\n",
    "import matplotlib.patches as mpatches\n",
    "import numpy as np\n",
    "\n",
    "def plot_notewise_eval(TP, FN, FP, fs=1000, title=\"Note-wise Evaluation (TP, FN, FP)\"):\n",
    "    time_len = TP.shape[1]\n",
    "    xticks = np.arange(0, time_len, fs)\n",
    "    xtick_labels = [f\"{x/fs:.1f}\" for x in xticks]\n",
    "    yticks = np.arange(0, 128, 12)\n",
    "    ylabels = [f'C{i}' for i in range(11)]\n",
    "\n",
    "    # Set wider figure and taller height\n",
    "    fig, ax = plt.subplots(figsize=(24, 5))  # wider and taller\n",
    "    extent = [0, time_len / fs, 0, 128]\n",
    "\n",
    "    # Background\n",
    "    ax.imshow(np.ones_like(TP), cmap=\"gray_r\", origin=\"lower\", extent=extent, aspect='auto')\n",
    "\n",
    "    # Rectangles\n",
    "    for matrix, color in zip([TP, FN, FP], ['blue', 'limegreen', 'red']):\n",
    "        y, x = np.where(matrix)\n",
    "        for xi, yi in zip(x, y):\n",
    "            rect = mpatches.Rectangle((xi / fs, yi), 1 / fs, 1, color=color, linewidth=0)\n",
    "            ax.add_patch(rect)\n",
    "\n",
    "    # Axis settings\n",
    "    ax.set_yticks(yticks)\n",
    "    ax.set_yticklabels(ylabels)\n",
    "    ax.set_xticks(xticks / fs)\n",
    "    ax.set_xticklabels(xtick_labels)\n",
    "    ax.set_xlabel(\"Time (s)\")\n",
    "    ax.set_ylabel(\"MIDI Note\")\n",
    "    # ax.set_ylim(55, 65)\n",
    "    ax.set_xlim(0, time_len / fs)\n",
    "    ax.set_title(title)\n",
    "\n",
    "    # Legend\n",
    "    patches = [\n",
    "        mpatches.Patch(color='blue', label='TP'),\n",
    "        mpatches.Patch(color='limegreen', label='FN'),\n",
    "        mpatches.Patch(color='red', label='FP')\n",
    "    ]\n",
    "    ax.legend(handles=patches, loc='upper left')\n",
    "\n",
    "    plt.tight_layout()\n",
    "    plt.show()\n",
    "\n"
   ]
  },
  {
   "cell_type": "code",
   "execution_count": 195,
   "metadata": {},
   "outputs": [
    {
     "data": {
      "image/png": "[encoded data removed]",
      "text/plain": [
       "<Figure size 2400x500 with 1 Axes>"
      ]
     },
     "metadata": {},
     "output_type": "display_data"
    }
   ],
   "source": [
    "# plot_full_comparison(m1_bin[:,:n], m2_bin[:,:n], TP[:,:n], FN[:,:n], FP[:,:n], fs)\n",
    "m = 0\n",
    "n = 1000000000\n",
    "# plot_piano_rolls(m1_bin[:], m2_bin[:], fs=1000)\n",
    "plot_notewise_eval(TP[:,m:n], FN[:,m:n], FP[:,m:n], fs=1000)"
   ]
  },
  {
   "cell_type": "code",
   "execution_count": 179,
   "metadata": {},
   "outputs": [
    {
     "name": "stdout",
     "output_type": "stream",
     "text": [
      "Onset-only F1         : 0.5430\n",
      "Onset+Offset F1       : 0.1594\n",
      "Onset-only Precision  : 0.3993\n",
      "Onset-only Recall     : 0.8481\n"
     ]
    }
   ],
   "source": [
    "import pretty_midi\n",
    "import mir_eval\n",
    "import numpy as np\n",
    "\n",
    "def midi_to_mir_eval_format(pm):\n",
    "    intervals = []\n",
    "    pitches = []\n",
    "    for inst in pm.instruments:\n",
    "        for n in inst.notes:\n",
    "            intervals.append([n.start, n.end])\n",
    "            pitches.append(n.pitch)\n",
    "    return np.array(intervals), np.array(pitches)\n",
    "\n",
    "# Load MIDI\n",
    "# ref = pretty_midi.PrettyMIDI(\"MMMAAA_02.mid\")\n",
    "# est = pretty_midi.PrettyMIDI(\"pool_02.mid\")\n",
    "ref = midi_data_1\n",
    "est = midi_data_2\n",
    "# Convert to mir_eval-compatible inputs\n",
    "ref_intervals, ref_pitches = midi_to_mir_eval_format(ref)\n",
    "est_intervals, est_pitches = midi_to_mir_eval_format(est)\n",
    "\n",
    "# Onset-only F1 (disable offset matching)\n",
    "results_onset = mir_eval.transcription.evaluate(\n",
    "    ref_intervals, ref_pitches,\n",
    "    est_intervals, est_pitches,\n",
    "    onset_tolerance=0.05,     # 50ms tolerance\n",
    "    offset_ratio=None         # <--- disable offset matching\n",
    ")\n",
    "\n",
    "# Onset + Offset F1\n",
    "results_onoff = mir_eval.transcription.evaluate(\n",
    "    ref_intervals, ref_pitches,\n",
    "    est_intervals, est_pitches,\n",
    "    onset_tolerance=0.05,\n",
    "    offset_ratio=0.2          # 20% offset match required\n",
    ")\n",
    "\n",
    "# Show results\n",
    "print(f\"Onset-only F1         : {results_onset['Onset_F-measure']:.4f}\")\n",
    "print(f\"Onset+Offset F1       : {results_onoff['F-measure']:.4f}\")\n",
    "print(f\"Onset-only Precision  : {results_onset['Onset_Precision']:.4f}\")\n",
    "print(f\"Onset-only Recall     : {results_onset['Onset_Recall']:.4f}\")\n"
   ]
  },
  {
   "cell_type": "code",
   "execution_count": 83,
   "metadata": {},
   "outputs": [
    {
     "data": {
      "text/plain": [
       "odict_keys(['Precision', 'Recall', 'F-measure', 'Average_Overlap_Ratio', 'Precision_no_offset', 'Recall_no_offset', 'F-measure_no_offset', 'Average_Overlap_Ratio_no_offset', 'Onset_Precision', 'Onset_Recall', 'Onset_F-measure', 'Offset_Precision', 'Offset_Recall', 'Offset_F-measure'])"
      ]
     },
     "execution_count": 83,
     "metadata": {},
     "output_type": "execute_result"
    }
   ],
   "source": [
    "results_onoff.keys()"
   ]
  },
  {
   "cell_type": "code",
   "execution_count": 84,
   "metadata": {},
   "outputs": [
    {
     "data": {
      "text/plain": [
       "0.84904833291045"
      ]
     },
     "execution_count": 84,
     "metadata": {},
     "output_type": "execute_result"
    }
   ],
   "source": [
    "results_onoff['Average_Overlap_Ratio']"
   ]
  },
  {
   "cell_type": "code",
   "execution_count": null,
   "metadata": {},
   "outputs": [],
   "source": []
  }
 ],
 "metadata": {
  "kernelspec": {
   "display_name": "env",
   "language": "python",
   "name": "python3"
  },
  "language_info": {
   "codemirror_mode": {
    "name": "ipython",
    "version": 3
   },
   "file_extension": ".py",
   "mimetype": "text/x-python",
   "name": "python",
   "nbconvert_exporter": "python",
   "pygments_lexer": "ipython3",
   "version": "3.10.11"
  }
 },
 "nbformat": 4,
 "nbformat_minor": 2
}
